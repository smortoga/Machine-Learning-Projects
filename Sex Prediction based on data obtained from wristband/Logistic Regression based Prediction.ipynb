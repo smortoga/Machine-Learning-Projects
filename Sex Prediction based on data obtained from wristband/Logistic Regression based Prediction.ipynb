{
 "cells": [
  {
   "cell_type": "code",
   "execution_count": 133,
   "id": "35573c70-e91e-4c21-af50-c33ff98c7855",
   "metadata": {},
   "outputs": [],
   "source": [
    "### Here a prediction for gender (male/female) is made based on weight/height for fitness associated wristband data\n",
    "# Here we will find out whether \n",
    "# 1. any presence of Nan values and if so how to clean the data\n",
    "# 2. how genders are distributed across the data\n",
    "# 3. Which attributes (height/weight) serve as best indicator for logistic Regression"
   ]
  },
  {
   "cell_type": "code",
   "execution_count": 134,
   "id": "c5d3ed54-219a-48d3-ac45-09a41949d59a",
   "metadata": {
    "tags": []
   },
   "outputs": [
    {
     "data": {
      "text/html": [
       "<div>\n",
       "<style scoped>\n",
       "    .dataframe tbody tr th:only-of-type {\n",
       "        vertical-align: middle;\n",
       "    }\n",
       "\n",
       "    .dataframe tbody tr th {\n",
       "        vertical-align: top;\n",
       "    }\n",
       "\n",
       "    .dataframe thead th {\n",
       "        text-align: right;\n",
       "    }\n",
       "</style>\n",
       "<table border=\"1\" class=\"dataframe\">\n",
       "  <thead>\n",
       "    <tr style=\"text-align: right;\">\n",
       "      <th></th>\n",
       "      <th>\"height</th>\n",
       "      <th>weight</th>\n",
       "      <th>gender\"</th>\n",
       "    </tr>\n",
       "  </thead>\n",
       "  <tbody>\n",
       "    <tr>\n",
       "      <th>0</th>\n",
       "      <td>\"184.75</td>\n",
       "      <td>79.2</td>\n",
       "      <td>male\"</td>\n",
       "    </tr>\n",
       "    <tr>\n",
       "      <th>1</th>\n",
       "      <td>\"177.8</td>\n",
       "      <td>90.8</td>\n",
       "      <td>male\"</td>\n",
       "    </tr>\n",
       "    <tr>\n",
       "      <th>2</th>\n",
       "      <td>\"186.22</td>\n",
       "      <td>86.3</td>\n",
       "      <td>male\"</td>\n",
       "    </tr>\n",
       "    <tr>\n",
       "      <th>3</th>\n",
       "      <td>\"184.7</td>\n",
       "      <td>83.8</td>\n",
       "      <td>male\"</td>\n",
       "    </tr>\n",
       "    <tr>\n",
       "      <th>4</th>\n",
       "      <td>\"186.29</td>\n",
       "      <td>74.9</td>\n",
       "      <td>female\"</td>\n",
       "    </tr>\n",
       "  </tbody>\n",
       "</table>\n",
       "</div>"
      ],
      "text/plain": [
       "   \"height  weight  gender\"\n",
       "0  \"184.75    79.2    male\"\n",
       "1   \"177.8    90.8    male\"\n",
       "2  \"186.22    86.3    male\"\n",
       "3   \"184.7    83.8    male\"\n",
       "4  \"186.29    74.9  female\""
      ]
     },
     "execution_count": 134,
     "metadata": {},
     "output_type": "execute_result"
    }
   ],
   "source": [
    "# import and read in data\n",
    "import pandas as pd\n",
    "import numpy as np\n",
    "df=pd.read_csv('Documents/iMac/Github/Machine Learning Projects/Purchasing Old car-Bad Buy/Machine-Learning-Projects/Sex Prediction based on data obtained from wristband/fit_gender.csv',sep='\\;',engine='python')\n",
    "df.head()"
   ]
  },
  {
   "cell_type": "code",
   "execution_count": 135,
   "id": "723b6ab3-4943-4cc0-a0f6-9a746ec7ecd5",
   "metadata": {
    "tags": []
   },
   "outputs": [
    {
     "data": {
      "text/html": [
       "<div>\n",
       "<style scoped>\n",
       "    .dataframe tbody tr th:only-of-type {\n",
       "        vertical-align: middle;\n",
       "    }\n",
       "\n",
       "    .dataframe tbody tr th {\n",
       "        vertical-align: top;\n",
       "    }\n",
       "\n",
       "    .dataframe thead th {\n",
       "        text-align: right;\n",
       "    }\n",
       "</style>\n",
       "<table border=\"1\" class=\"dataframe\">\n",
       "  <thead>\n",
       "    <tr style=\"text-align: right;\">\n",
       "      <th></th>\n",
       "      <th>\"height</th>\n",
       "      <th>weight</th>\n",
       "      <th>gender\"</th>\n",
       "    </tr>\n",
       "  </thead>\n",
       "  <tbody>\n",
       "    <tr>\n",
       "      <th>0</th>\n",
       "      <td>\"184.75</td>\n",
       "      <td>79.2</td>\n",
       "      <td>male\"</td>\n",
       "    </tr>\n",
       "    <tr>\n",
       "      <th>1</th>\n",
       "      <td>\"177.8</td>\n",
       "      <td>90.8</td>\n",
       "      <td>male\"</td>\n",
       "    </tr>\n",
       "    <tr>\n",
       "      <th>2</th>\n",
       "      <td>\"186.22</td>\n",
       "      <td>86.3</td>\n",
       "      <td>male\"</td>\n",
       "    </tr>\n",
       "    <tr>\n",
       "      <th>3</th>\n",
       "      <td>\"184.7</td>\n",
       "      <td>83.8</td>\n",
       "      <td>male\"</td>\n",
       "    </tr>\n",
       "    <tr>\n",
       "      <th>4</th>\n",
       "      <td>\"186.29</td>\n",
       "      <td>74.9</td>\n",
       "      <td>female\"</td>\n",
       "    </tr>\n",
       "  </tbody>\n",
       "</table>\n",
       "</div>"
      ],
      "text/plain": [
       "   \"height  weight  gender\"\n",
       "0  \"184.75    79.2    male\"\n",
       "1   \"177.8    90.8    male\"\n",
       "2  \"186.22    86.3    male\"\n",
       "3   \"184.7    83.8    male\"\n",
       "4  \"186.29    74.9  female\""
      ]
     },
     "execution_count": 135,
     "metadata": {},
     "output_type": "execute_result"
    }
   ],
   "source": [
    "# import and read in data\n",
    "import pandas as pd\n",
    "import numpy as np\n",
    "df=pd.read_csv('Documents/iMac/Github/Machine Learning Projects/Purchasing Old car-Bad Buy/Machine-Learning-Projects/Sex Prediction based on data obtained from wristband/fit_gender.csv',sep='\\;',engine='python')\n",
    "df.head()"
   ]
  },
  {
   "cell_type": "markdown",
   "id": "7eb4d598-0cb3-4169-b201-3678c5b4e309",
   "metadata": {},
   "source": [
    "### Exploratory data analysis"
   ]
  },
  {
   "cell_type": "code",
   "execution_count": 136,
   "id": "2c35ac9b-3ca8-4702-befe-ac48ea35a2b8",
   "metadata": {
    "tags": []
   },
   "outputs": [
    {
     "data": {
      "text/plain": [
       "(91, 3)"
      ]
     },
     "execution_count": 136,
     "metadata": {},
     "output_type": "execute_result"
    }
   ],
   "source": [
    "#checking the data infos\n",
    "df.dtypes\n",
    "len(df.columns)\n",
    "df.shape"
   ]
  },
  {
   "cell_type": "code",
   "execution_count": 137,
   "id": "66337c49-4cbb-4a8f-8031-1951077d8f09",
   "metadata": {
    "tags": []
   },
   "outputs": [
    {
     "data": {
      "text/plain": [
       "Index(['\"height', 'weight', 'gender\"'], dtype='object')"
      ]
     },
     "execution_count": 137,
     "metadata": {},
     "output_type": "execute_result"
    }
   ],
   "source": [
    "\n",
    "df.columns"
   ]
  },
  {
   "cell_type": "code",
   "execution_count": 138,
   "id": "8ba27aba-997c-4e31-855a-365bbdb3aa2a",
   "metadata": {
    "tags": []
   },
   "outputs": [
    {
     "data": {
      "text/plain": [
       "Index(['height', 'weight', 'gender'], dtype='object')"
      ]
     },
     "execution_count": 138,
     "metadata": {},
     "output_type": "execute_result"
    }
   ],
   "source": [
    "# Remove the extra quotation marks from the column names\n",
    "df.columns = df.columns.str.replace('\"', '')\n",
    "df.columns"
   ]
  },
  {
   "cell_type": "code",
   "execution_count": 139,
   "id": "91bd3842-4942-4753-b710-158d9be96865",
   "metadata": {
    "tags": []
   },
   "outputs": [
    {
     "name": "stdout",
     "output_type": "stream",
     "text": [
      "\"165.75\n",
      "\"197.72\n"
     ]
    }
   ],
   "source": [
    "# Getting a rough overview of the data through visualization\n",
    "#import libraries\n",
    "import seaborn as sns\n",
    "import matplotlib as mpl\n",
    "import matplotlib.pyplot as plt\n",
    "%matplotlib inline\n",
    "import statsmodels.formula.api as smf\n",
    "import math\n",
    "\n",
    "\n",
    "min_value=df['height'].min()\n",
    "max_value=df['height'].max()\n",
    "print(min_value)\n",
    "print(max_value)"
   ]
  },
  {
   "cell_type": "code",
   "execution_count": 140,
   "id": "2e9ffa02-926c-4e6b-8673-a337c12f7fdc",
   "metadata": {
    "tags": []
   },
   "outputs": [],
   "source": [
    "# Remove the extra quotation marks from the 'height' column names\n",
    "df['height'] = df['height'].str.replace('\"', '')\n",
    "#df"
   ]
  },
  {
   "cell_type": "code",
   "execution_count": 141,
   "id": "c723de08-cb93-4e77-a63a-f7775dd30adb",
   "metadata": {
    "tags": []
   },
   "outputs": [
    {
     "name": "stdout",
     "output_type": "stream",
     "text": [
      "Minimum value of height: 165.75\n",
      "Maximum value of height: 197.72\n"
     ]
    }
   ],
   "source": [
    "df['height'] = pd.to_numeric(df['height'])\n",
    "min_value=df['height'].min()\n",
    "max_value=df['height'].max()\n",
    "print('Minimum value of height:',min_value)\n",
    "print('Maximum value of height:',max_value)"
   ]
  },
  {
   "cell_type": "code",
   "execution_count": 142,
   "id": "c51503a9-91d2-47dc-8350-963a786f0cc9",
   "metadata": {
    "tags": []
   },
   "outputs": [],
   "source": [
    "# Simple way to strip double quotes from column names as well as column values\n",
    "#df.columns=df.columns.str.strip('\"') # remove double quotes from column names\n",
    "#df=df.apply(lambda X:X.astype(str).str.strip('\"')) # remove double quotes from all column values"
   ]
  },
  {
   "cell_type": "code",
   "execution_count": 143,
   "id": "e150bed0-d5b1-44a4-8eb1-a69c3407d12b",
   "metadata": {
    "tags": []
   },
   "outputs": [],
   "source": [
    "# Quotation remarks need to be removed like columns\n",
    "#df['height'] = pd.to_numeric(df['height'])\n",
    "\n",
    "#min_value = df['height'].min()\n",
    "#max_value = df['height'].max()\n",
    "\n",
    "#print(\"Minimum value of height: \", min_value)\n",
    "#print(\"Maximum value of height: \", max_value)\n"
   ]
  },
  {
   "cell_type": "code",
   "execution_count": 144,
   "id": "d26d4dd1-a780-439b-b398-425d9c21916b",
   "metadata": {
    "tags": []
   },
   "outputs": [
    {
     "data": {
      "text/plain": [
       "<Axes: xlabel='height', ylabel='weight'>"
      ]
     },
     "execution_count": 144,
     "metadata": {},
     "output_type": "execute_result"
    },
    {
     "data": {
      "image/png": "[encoded data removed]",
      "text/plain": [
       "<Figure size 640x480 with 1 Axes>"
      ]
     },
     "metadata": {},
     "output_type": "display_data"
    }
   ],
   "source": [
    "#df[['height','weight','gender']]=df['height weight gender'].str.split(expand=True)\n",
    "df.plot (kind=\"scatter\", x=\"height\", y=\"weight\")\n",
    "#plt.xlim([165,195])\n",
    "#plt.show()"
   ]
  },
  {
   "cell_type": "code",
   "execution_count": 145,
   "id": "0231c66b-bf0a-4321-9c58-7d1b388aac46",
   "metadata": {
    "tags": []
   },
   "outputs": [
    {
     "data": {
      "text/plain": [
       "<Axes: xlabel='height', ylabel='weight'>"
      ]
     },
     "execution_count": 145,
     "metadata": {},
     "output_type": "execute_result"
    },
    {
     "data": {
      "image/png": "[encoded data removed]",
      "text/plain": [
       "<Figure size 640x480 with 1 Axes>"
      ]
     },
     "metadata": {},
     "output_type": "display_data"
    }
   ],
   "source": [
    "sns.scatterplot(data=df,x='height',y='weight',hue='gender')\n"
   ]
  },
  {
   "cell_type": "markdown",
   "id": "06263962-6e93-41fa-b69e-29982cf33f6c",
   "metadata": {},
   "source": [
    "### 1. Are there any missing values ( NaN )? Does the data need to be cleaned?"
   ]
  },
  {
   "cell_type": "code",
   "execution_count": 146,
   "id": "5bbebf12-3c79-4429-83bc-2e1b25762af5",
   "metadata": {
    "tags": []
   },
   "outputs": [
    {
     "data": {
      "text/plain": [
       "height    float64\n",
       "weight    float64\n",
       "gender     object\n",
       "dtype: object"
      ]
     },
     "execution_count": 146,
     "metadata": {},
     "output_type": "execute_result"
    }
   ],
   "source": [
    "# check the data type\n",
    "df.dtypes"
   ]
  },
  {
   "cell_type": "code",
   "execution_count": 147,
   "id": "75590d2a-0d59-4de1-aa59-30bdaba918cb",
   "metadata": {
    "tags": []
   },
   "outputs": [
    {
     "data": {
      "text/plain": [
       "height     float64\n",
       "weight     float64\n",
       "gender    category\n",
       "dtype: object"
      ]
     },
     "execution_count": 147,
     "metadata": {},
     "output_type": "execute_result"
    }
   ],
   "source": [
    "# gender needs to be converted into categorical column\n",
    "df['gender']=df ['gender'].astype('category')\n",
    "df.dtypes"
   ]
  },
  {
   "cell_type": "code",
   "execution_count": 148,
   "id": "1d76f623-6078-4403-b597-1d3508fe1a69",
   "metadata": {
    "tags": []
   },
   "outputs": [
    {
     "data": {
      "text/plain": [
       "height    0\n",
       "weight    0\n",
       "gender    0\n",
       "dtype: int64"
      ]
     },
     "execution_count": 148,
     "metadata": {},
     "output_type": "execute_result"
    }
   ],
   "source": [
    "# check presence of any missing values \n",
    "df.isna().sum()"
   ]
  },
  {
   "cell_type": "code",
   "execution_count": 149,
   "id": "6afe5ac4-0170-404b-8a4e-90d64128159b",
   "metadata": {
    "tags": []
   },
   "outputs": [
    {
     "data": {
      "text/html": [
       "<div>\n",
       "<style scoped>\n",
       "    .dataframe tbody tr th:only-of-type {\n",
       "        vertical-align: middle;\n",
       "    }\n",
       "\n",
       "    .dataframe tbody tr th {\n",
       "        vertical-align: top;\n",
       "    }\n",
       "\n",
       "    .dataframe thead th {\n",
       "        text-align: right;\n",
       "    }\n",
       "</style>\n",
       "<table border=\"1\" class=\"dataframe\">\n",
       "  <thead>\n",
       "    <tr style=\"text-align: right;\">\n",
       "      <th></th>\n",
       "      <th>height</th>\n",
       "      <th>weight</th>\n",
       "    </tr>\n",
       "  </thead>\n",
       "  <tbody>\n",
       "    <tr>\n",
       "      <th>count</th>\n",
       "      <td>91.000000</td>\n",
       "      <td>91.000000</td>\n",
       "    </tr>\n",
       "    <tr>\n",
       "      <th>mean</th>\n",
       "      <td>176.974615</td>\n",
       "      <td>81.153846</td>\n",
       "    </tr>\n",
       "    <tr>\n",
       "      <th>std</th>\n",
       "      <td>9.061819</td>\n",
       "      <td>5.865384</td>\n",
       "    </tr>\n",
       "    <tr>\n",
       "      <th>min</th>\n",
       "      <td>165.750000</td>\n",
       "      <td>71.700000</td>\n",
       "    </tr>\n",
       "    <tr>\n",
       "      <th>25%</th>\n",
       "      <td>168.345000</td>\n",
       "      <td>75.750000</td>\n",
       "    </tr>\n",
       "    <tr>\n",
       "      <th>50%</th>\n",
       "      <td>177.670000</td>\n",
       "      <td>80.900000</td>\n",
       "    </tr>\n",
       "    <tr>\n",
       "      <th>75%</th>\n",
       "      <td>185.240000</td>\n",
       "      <td>86.300000</td>\n",
       "    </tr>\n",
       "    <tr>\n",
       "      <th>max</th>\n",
       "      <td>197.720000</td>\n",
       "      <td>91.500000</td>\n",
       "    </tr>\n",
       "  </tbody>\n",
       "</table>\n",
       "</div>"
      ],
      "text/plain": [
       "           height     weight\n",
       "count   91.000000  91.000000\n",
       "mean   176.974615  81.153846\n",
       "std      9.061819   5.865384\n",
       "min    165.750000  71.700000\n",
       "25%    168.345000  75.750000\n",
       "50%    177.670000  80.900000\n",
       "75%    185.240000  86.300000\n",
       "max    197.720000  91.500000"
      ]
     },
     "execution_count": 149,
     "metadata": {},
     "output_type": "execute_result"
    }
   ],
   "source": [
    "# check for the descriptive statistics\n",
    "df.describe()"
   ]
  },
  {
   "cell_type": "markdown",
   "id": "fbec96e1-4a70-4fe3-a9ad-621e6fcb2f53",
   "metadata": {
    "tags": []
   },
   "source": [
    "### 2. How genders are distributed in the data"
   ]
  },
  {
   "cell_type": "code",
   "execution_count": 150,
   "id": "69fbd5d9-441f-4e2d-8412-bbb79d1b3c7a",
   "metadata": {
    "tags": []
   },
   "outputs": [],
   "source": [
    "# check if gender over/under representation is present in the data\n",
    "# create a contingency table to get the frequency and use 'crosstab'\n",
    "\n",
    "\n",
    "#gender_ct=pd.crosstab(index=df['height'].count(),df['weight'].count()],\n",
    "                        #columns=df['gender'],\n",
    "                      #margins=True,\n",
    "                      #normalize=True)\n",
    "#gender_ct"
   ]
  },
  {
   "cell_type": "code",
   "execution_count": 151,
   "id": "c2aba652-2617-4288-88c6-331d0cd873a6",
   "metadata": {
    "tags": []
   },
   "outputs": [
    {
     "name": "stdout",
     "output_type": "stream",
     "text": [
      "gender\n",
      "female\"    45\n",
      "male\"      46\n",
      "dtype: int64\n"
     ]
    }
   ],
   "source": [
    "# absolute values\n",
    "print(df.groupby('gender').size())"
   ]
  },
  {
   "cell_type": "code",
   "execution_count": 152,
   "id": "5d952387-a502-40b1-a979-4169bc416400",
   "metadata": {
    "tags": []
   },
   "outputs": [
    {
     "name": "stdout",
     "output_type": "stream",
     "text": [
      "col_0       count\n",
      "gender           \n",
      "female\"  0.494505\n",
      "male\"    0.505495\n"
     ]
    }
   ],
   "source": [
    "\n",
    "# in percentage\n",
    "print(pd.crosstab(index=df['gender'],columns='count', normalize='columns'))\n",
    "\n"
   ]
  },
  {
   "cell_type": "code",
   "execution_count": 153,
   "id": "81840808-c534-460c-b03f-7eedb1ff7ae9",
   "metadata": {
    "tags": []
   },
   "outputs": [],
   "source": [
    " # Remove the extra quotation marks from the gender column names"
   ]
  },
  {
   "cell_type": "markdown",
   "id": "ce496999-d752-4ff2-85f7-58351383f7d6",
   "metadata": {},
   "source": [
    "### Which personal attributes (height, weight) renders a better gender indication"
   ]
  },
  {
   "cell_type": "code",
   "execution_count": 154,
   "id": "a4266904-c904-41ac-8faa-49fb5dafff3f",
   "metadata": {},
   "outputs": [],
   "source": [
    "# Here logistic regression (LR) will be employed. Since LR wont work with categorical data types, we will \n",
    "# encode the 'gender' column as numeric variable where o= for female and 1 for male"
   ]
  },
  {
   "cell_type": "code",
   "execution_count": 155,
   "id": "757b04d0-12d0-4346-93ec-ee443320ffb2",
   "metadata": {
    "tags": []
   },
   "outputs": [
    {
     "data": {
      "text/html": [
       "<div>\n",
       "<style scoped>\n",
       "    .dataframe tbody tr th:only-of-type {\n",
       "        vertical-align: middle;\n",
       "    }\n",
       "\n",
       "    .dataframe tbody tr th {\n",
       "        vertical-align: top;\n",
       "    }\n",
       "\n",
       "    .dataframe thead th {\n",
       "        text-align: right;\n",
       "    }\n",
       "</style>\n",
       "<table border=\"1\" class=\"dataframe\">\n",
       "  <thead>\n",
       "    <tr style=\"text-align: right;\">\n",
       "      <th></th>\n",
       "      <th>height</th>\n",
       "      <th>weight</th>\n",
       "      <th>gender</th>\n",
       "    </tr>\n",
       "  </thead>\n",
       "  <tbody>\n",
       "    <tr>\n",
       "      <th>0</th>\n",
       "      <td>184.75</td>\n",
       "      <td>79.2</td>\n",
       "      <td>1</td>\n",
       "    </tr>\n",
       "    <tr>\n",
       "      <th>1</th>\n",
       "      <td>177.80</td>\n",
       "      <td>90.8</td>\n",
       "      <td>1</td>\n",
       "    </tr>\n",
       "    <tr>\n",
       "      <th>2</th>\n",
       "      <td>186.22</td>\n",
       "      <td>86.3</td>\n",
       "      <td>1</td>\n",
       "    </tr>\n",
       "    <tr>\n",
       "      <th>3</th>\n",
       "      <td>184.70</td>\n",
       "      <td>83.8</td>\n",
       "      <td>1</td>\n",
       "    </tr>\n",
       "    <tr>\n",
       "      <th>4</th>\n",
       "      <td>186.29</td>\n",
       "      <td>74.9</td>\n",
       "      <td>0</td>\n",
       "    </tr>\n",
       "    <tr>\n",
       "      <th>...</th>\n",
       "      <td>...</td>\n",
       "      <td>...</td>\n",
       "      <td>...</td>\n",
       "    </tr>\n",
       "    <tr>\n",
       "      <th>86</th>\n",
       "      <td>169.95</td>\n",
       "      <td>81.8</td>\n",
       "      <td>0</td>\n",
       "    </tr>\n",
       "    <tr>\n",
       "      <th>87</th>\n",
       "      <td>185.34</td>\n",
       "      <td>82.2</td>\n",
       "      <td>1</td>\n",
       "    </tr>\n",
       "    <tr>\n",
       "      <th>88</th>\n",
       "      <td>167.15</td>\n",
       "      <td>80.3</td>\n",
       "      <td>0</td>\n",
       "    </tr>\n",
       "    <tr>\n",
       "      <th>89</th>\n",
       "      <td>169.66</td>\n",
       "      <td>72.2</td>\n",
       "      <td>0</td>\n",
       "    </tr>\n",
       "    <tr>\n",
       "      <th>90</th>\n",
       "      <td>165.83</td>\n",
       "      <td>74.0</td>\n",
       "      <td>0</td>\n",
       "    </tr>\n",
       "  </tbody>\n",
       "</table>\n",
       "<p>91 rows × 3 columns</p>\n",
       "</div>"
      ],
      "text/plain": [
       "    height  weight gender\n",
       "0   184.75    79.2      1\n",
       "1   177.80    90.8      1\n",
       "2   186.22    86.3      1\n",
       "3   184.70    83.8      1\n",
       "4   186.29    74.9      0\n",
       "..     ...     ...    ...\n",
       "86  169.95    81.8      0\n",
       "87  185.34    82.2      1\n",
       "88  167.15    80.3      0\n",
       "89  169.66    72.2      0\n",
       "90  165.83    74.0      0\n",
       "\n",
       "[91 rows x 3 columns]"
      ]
     },
     "execution_count": 155,
     "metadata": {},
     "output_type": "execute_result"
    }
   ],
   "source": [
    "# Encoding 'gender' column with 0=female and 1 =male\n",
    "df.replace('male\"',1,inplace =True)\n",
    "df.replace('female\"',0,inplace=True)\n",
    "df\n",
    "           "
   ]
  },
  {
   "cell_type": "code",
   "execution_count": 157,
   "id": "cb2b2642-810d-4a9f-885e-9f81ce7d03b8",
   "metadata": {
    "tags": []
   },
   "outputs": [
    {
     "name": "stdout",
     "output_type": "stream",
     "text": [
      "Optimization terminated successfully.\n",
      "         Current function value: 0.472170\n",
      "         Iterations 6\n",
      "                           Logit Regression Results                           \n",
      "==============================================================================\n",
      "Dep. Variable:                 gender   No. Observations:                   91\n",
      "Model:                          Logit   Df Residuals:                       89\n",
      "Method:                           MLE   Df Model:                            1\n",
      "Date:                Sun, 16 Jun 2024   Pseudo R-squ.:                  0.3187\n",
      "Time:                        21:51:46   Log-Likelihood:                -42.968\n",
      "converged:                       True   LL-Null:                       -63.071\n",
      "Covariance Type:            nonrobust   LLR p-value:                 2.285e-10\n",
      "==============================================================================\n",
      "                 coef    std err          z      P>|z|      [0.025      0.975]\n",
      "------------------------------------------------------------------------------\n",
      "Intercept    -31.4596      5.924     -5.311      0.000     -43.070     -19.850\n",
      "height         0.1783      0.034      5.303      0.000       0.112       0.244\n",
      "==============================================================================\n",
      "Optimization terminated successfully.\n",
      "         Current function value: 0.685682\n",
      "         Iterations 4\n",
      "                           Logit Regression Results                           \n",
      "==============================================================================\n",
      "Dep. Variable:                 gender   No. Observations:                   91\n",
      "Model:                          Logit   Df Residuals:                       89\n",
      "Method:                           MLE   Df Model:                            1\n",
      "Date:                Sun, 16 Jun 2024   Pseudo R-squ.:                 0.01068\n",
      "Time:                        21:51:46   Log-Likelihood:                -62.397\n",
      "converged:                       True   LL-Null:                       -63.071\n",
      "Covariance Type:            nonrobust   LLR p-value:                    0.2457\n",
      "==============================================================================\n",
      "                 coef    std err          z      P>|z|      [0.025      0.975]\n",
      "------------------------------------------------------------------------------\n",
      "Intercept     -3.3866      2.963     -1.143      0.253      -9.194       2.420\n",
      "weight         0.0420      0.036      1.153      0.249      -0.029       0.113\n",
      "==============================================================================\n"
     ]
    }
   ],
   "source": [
    "# Now use one prediction variable (height,weight) to predict 'gender' with statmodels\n",
    "\n",
    "df['gender']=df['gender'].astype('int16') # converting the gender data into int\n",
    "model_height=smf.logit(formula='gender~height',data=df)\n",
    "result_height=model_height.fit() # fitting the particular model (logistic) to the data\n",
    "print(result_height.summary())\n",
    "\n",
    "model_weight=smf.logit(formula='gender~weight',data=df)\n",
    "result_weight=model_weight.fit()\n",
    "print(result_weight.summary())"
   ]
  },
  {
   "cell_type": "code",
   "execution_count": 158,
   "id": "36171978-ba92-4604-a3f6-71c8df6a8a22",
   "metadata": {
    "tags": []
   },
   "outputs": [],
   "source": [
    "# select the model with better performance. Store the intercept and slope\n",
    "# Get model parameters\n",
    "intercept=result_height.params['Intercept']\n",
    "slope=result_height.params['height']"
   ]
  },
  {
   "cell_type": "code",
   "execution_count": 159,
   "id": "bade320c-5d43-404e-8900-70676697ad90",
   "metadata": {
    "tags": []
   },
   "outputs": [
    {
     "data": {
      "text/html": [
       "<div>\n",
       "<style scoped>\n",
       "    .dataframe tbody tr th:only-of-type {\n",
       "        vertical-align: middle;\n",
       "    }\n",
       "\n",
       "    .dataframe tbody tr th {\n",
       "        vertical-align: top;\n",
       "    }\n",
       "\n",
       "    .dataframe thead th {\n",
       "        text-align: right;\n",
       "    }\n",
       "</style>\n",
       "<table border=\"1\" class=\"dataframe\">\n",
       "  <thead>\n",
       "    <tr style=\"text-align: right;\">\n",
       "      <th></th>\n",
       "      <th>height</th>\n",
       "    </tr>\n",
       "  </thead>\n",
       "  <tbody>\n",
       "    <tr>\n",
       "      <th>0</th>\n",
       "      <td>0</td>\n",
       "    </tr>\n",
       "    <tr>\n",
       "      <th>1</th>\n",
       "      <td>1</td>\n",
       "    </tr>\n",
       "    <tr>\n",
       "      <th>2</th>\n",
       "      <td>2</td>\n",
       "    </tr>\n",
       "    <tr>\n",
       "      <th>3</th>\n",
       "      <td>3</td>\n",
       "    </tr>\n",
       "    <tr>\n",
       "      <th>4</th>\n",
       "      <td>4</td>\n",
       "    </tr>\n",
       "    <tr>\n",
       "      <th>...</th>\n",
       "      <td>...</td>\n",
       "    </tr>\n",
       "    <tr>\n",
       "      <th>245</th>\n",
       "      <td>245</td>\n",
       "    </tr>\n",
       "    <tr>\n",
       "      <th>246</th>\n",
       "      <td>246</td>\n",
       "    </tr>\n",
       "    <tr>\n",
       "      <th>247</th>\n",
       "      <td>247</td>\n",
       "    </tr>\n",
       "    <tr>\n",
       "      <th>248</th>\n",
       "      <td>248</td>\n",
       "    </tr>\n",
       "    <tr>\n",
       "      <th>249</th>\n",
       "      <td>249</td>\n",
       "    </tr>\n",
       "  </tbody>\n",
       "</table>\n",
       "<p>250 rows × 1 columns</p>\n",
       "</div>"
      ],
      "text/plain": [
       "     height\n",
       "0         0\n",
       "1         1\n",
       "2         2\n",
       "3         3\n",
       "4         4\n",
       "..      ...\n",
       "245     245\n",
       "246     246\n",
       "247     247\n",
       "248     248\n",
       "249     249\n",
       "\n",
       "[250 rows x 1 columns]"
      ]
     },
     "execution_count": 159,
     "metadata": {},
     "output_type": "execute_result"
    }
   ],
   "source": [
    "# Make predictions based on model\n",
    "X=pd.Series(range(0,250,1))\n",
    "X_df=pd.DataFrame({'height':X})\n",
    "X_df\n",
    "            "
   ]
  },
  {
   "cell_type": "code",
   "execution_count": 160,
   "id": "6c578234-e074-4f61-a50d-a5b712f6262e",
   "metadata": {
    "tags": []
   },
   "outputs": [
    {
     "data": {
      "text/plain": [
       "0      2.174057e-14\n",
       "1      2.598449e-14\n",
       "2      3.105685e-14\n",
       "3      3.711938e-14\n",
       "4      4.436535e-14\n",
       "           ...     \n",
       "245    9.999951e-01\n",
       "246    9.999959e-01\n",
       "247    9.999966e-01\n",
       "248    9.999971e-01\n",
       "249    9.999976e-01\n",
       "Length: 250, dtype: float64"
      ]
     },
     "execution_count": 160,
     "metadata": {},
     "output_type": "execute_result"
    }
   ],
   "source": [
    "# Predict the values from X_df using better model and store the prediction in p_y\n",
    "\n",
    "p_y=result_height.predict(X_df) #use the threshold value 0.5 as usual\n",
    "p_y"
   ]
  },
  {
   "cell_type": "code",
   "execution_count": 164,
   "id": "749d91d3-e407-4ad9-978d-dfd6dffcf903",
   "metadata": {
    "tags": []
   },
   "outputs": [
    {
     "name": "stdout",
     "output_type": "stream",
     "text": [
      " The height at which it shows 50% probability an individual being male or female is 177cm\n"
     ]
    },
    {
     "data": {
      "text/plain": [
       "Text(0, 0.5, 'Probability of being Male')"
      ]
     },
     "execution_count": 164,
     "metadata": {},
     "output_type": "execute_result"
    },
    {
     "data": {
      "image/png": "[encoded data removed]",
      "text/plain": [
       "<Figure size 1000x500 with 1 Axes>"
      ]
     },
     "metadata": {},
     "output_type": "display_data"
    }
   ],
   "source": [
    "# Visulaize the prediction\n",
    "# Estimate X-value (height) threshold with 50% of probability of being male \n",
    "per50_prob=p_y[p_y>=0.5].index[0]\n",
    "\n",
    "# print statement with answer\n",
    "answer=' The height at which it shows 50% probability an individual being male or female is 177cm'\n",
    "print(answer.format(per50_prob))\n",
    "\n",
    "# model curve visualization and data histogram\n",
    "per50_line=pd.DataFrame({'model_x':[per50_prob,per50_prob],'model_y':[0,1]})\n",
    "fig,ax=plt.subplots(1,1,figsize=(10,5))\n",
    "\n",
    "#S-Curve plot\n",
    "p_y.plot(color='red',ax=ax)\n",
    "per50_line.plot(x='model_x',color='green', ax=ax)\n",
    "ax.set_xlabel('Height (cm)', fontsize= 18)\n",
    "ax.set_ylabel('Probability of being Male', fontsize=18)"
   ]
  },
  {
   "cell_type": "markdown",
   "id": "8ce0477c-16d7-439e-9eb7-659176a72603",
   "metadata": {},
   "source": [
    "# A height of 177 cm marks the 50% threshold that disguishes the difference between male and female. If a person is shorter than 177cm, they are more likely to be female. If the person is exactly 177cm tall, the probability is 50/50."
   ]
  },
  {
   "cell_type": "code",
   "execution_count": null,
   "id": "7ccad3d2-f9d0-4df3-b9eb-66eb2f36ce29",
   "metadata": {},
   "outputs": [],
   "source": []
  }
 ],
 "metadata": {
  "kernelspec": {
   "display_name": "Python 3 (ipykernel)",
   "language": "python",
   "name": "python3"
  },
  "language_info": {
   "codemirror_mode": {
    "name": "ipython",
    "version": 3
   },
   "file_extension": ".py",
   "mimetype": "text/x-python",
   "name": "python",
   "nbconvert_exporter": "python",
   "pygments_lexer": "ipython3",
   "version": "3.11.4"
  }
 },
 "nbformat": 4,
 "nbformat_minor": 5
}
